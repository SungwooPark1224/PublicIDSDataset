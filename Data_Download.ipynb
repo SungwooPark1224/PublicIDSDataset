{
 "cells": [
  {
   "cell_type": "code",
   "execution_count": 1,
   "id": "8bc5dec5",
   "metadata": {},
   "outputs": [
    {
     "name": "stderr",
     "output_type": "stream",
     "text": [
      "c:\\Users\\psw55\\anaconda3\\envs\\Project_EDA\\lib\\site-packages\\tqdm\\auto.py:21: TqdmWarning: IProgress not found. Please update jupyter and ipywidgets. See https://ipywidgets.readthedocs.io/en/stable/user_install.html\n",
      "  from .autonotebook import tqdm as notebook_tqdm\n"
     ]
    }
   ],
   "source": [
    "# Kaggle 데이터셋 다운로드/정리를 위한 표준 라이브러리 및 kagglehub 로더\n",
    "import kagglehub\n",
    "import shutil\n",
    "import os\n",
    "\n",
    "# 경고 메시지 숨김으로 노트북 출력 깔끔하게 유지\n",
    "import warnings\n",
    "warnings.filterwarnings(action='ignore')"
   ]
  },
  {
   "cell_type": "code",
   "execution_count": 2,
   "id": "3b3c98ad",
   "metadata": {},
   "outputs": [],
   "source": [
    "# 다운로드할 데이터셋 이름 선택\n",
    "# 데이터셋 리스트: \"NSL_KDD\", \"CIC_IDS2017\", \"CSE_CIC_IDS2018\", \"UNSW_NB15\", \"ISCX_IDS2012\", \"CIC_DDoS2019\", \"CICEV2023\", \"CICIoV2024\"\n",
    "DATASET_NAME = \"NSL_KDD\"\n",
    "\n",
    "# 로컬 저장 기본 경로 (끝에 슬래시 유지)\n",
    "DOWNLOAD_PATH = \"./Data/\""
   ]
  },
  {
   "cell_type": "code",
   "execution_count": 3,
   "id": "bc1ef574",
   "metadata": {},
   "outputs": [],
   "source": [
    "# 선택한 데이터셋 이름에 대응하는 Kaggle 식별자 설정\n",
    "if DATASET_NAME == \"NSL_KDD\":\n",
    "    kagglehub_dir = \"hassan06/nslkdd\"\n",
    "elif DATASET_NAME == \"CIC_IDS2017\":\n",
    "    kagglehub_dir = \"chethuhn/network-intrusion-dataset\"\n",
    "elif DATASET_NAME == \"CSE_CIC_IDS2018\":\n",
    "    kagglehub_dir = \"solarmainframe/ids-intrusion-csv\"\n",
    "elif DATASET_NAME == \"UNSW_NB15\":\n",
    "    kagglehub_dir = \"dhoogla/unswnb15\"\n",
    "elif DATASET_NAME == \"ISCX_IDS2012\":\n",
    "    kagglehub_dir = \"anowersha/ids-iscx-2012-dataset\"\n",
    "elif DATASET_NAME == \"CIC_DDoS2019\":\n",
    "    kagglehub_dir = \"aymenabb/ddos-evaluation-dataset-cic-ddos2019\"\n",
    "elif DATASET_NAME == \"CICEV2023\":\n",
    "    kagglehub_dir = \"agungpambudi/secure-intrusion-detection-ddos-attacks-profiling\"\n",
    "elif DATASET_NAME == \"CICIoV2024\":\n",
    "    kagglehub_dir = \"tusharchauhan1898/ciciov2024\""
   ]
  },
  {
   "cell_type": "code",
   "execution_count": 4,
   "id": "aa92a44f",
   "metadata": {},
   "outputs": [],
   "source": [
    "# 데이터셋이 저장될 최종 경로 생성 (없으면 신규 생성)\n",
    "data_path = DOWNLOAD_PATH + DATASET_NAME\n",
    "if not os.path.exists(data_path):\n",
    "    os.makedirs(data_path)"
   ]
  },
  {
   "cell_type": "code",
   "execution_count": 5,
   "id": "e64b52e7",
   "metadata": {},
   "outputs": [
    {
     "name": "stdout",
     "output_type": "stream",
     "text": [
      "Downloading from https://www.kaggle.com/api/v1/datasets/download/hassan06/nslkdd?dataset_version_number=1...\n"
     ]
    },
    {
     "name": "stderr",
     "output_type": "stream",
     "text": [
      "100%|██████████| 13.9M/13.9M [00:00<00:00, 21.9MB/s]"
     ]
    },
    {
     "name": "stdout",
     "output_type": "stream",
     "text": [
      "Extracting files...\n"
     ]
    },
    {
     "name": "stderr",
     "output_type": "stream",
     "text": [
      "\n"
     ]
    }
   ],
   "source": [
    "# KaggleHub를 통해 데이터셋을 캐시 디렉터리로 다운로드\n",
    "path = kagglehub.dataset_download(kagglehub_dir)\n",
    "\n",
    "# 캐시 디렉터리에서 실제 프로젝트의 대상 경로로 파일 이동\n",
    "for item in os.listdir(path):\n",
    "    src_item = os.path.join(path, item)\n",
    "    dst_item = os.path.join(data_path, item)\n",
    "    shutil.move(src_item, dst_item)\n",
    "\n",
    "# KaggleHub가 생성한 상위 캐시 디렉터리를 정리하여 공간 확보\n",
    "# (path에서 공급자 이름 부분을 기준으로 상위 경로를 추출하여 삭제)\n",
    "shutil.rmtree(path.split(kagglehub_dir.split(\"/\")[0])[0][:-1])"
   ]
  }
 ],
 "metadata": {
  "kernelspec": {
   "display_name": "Project_EDA",
   "language": "python",
   "name": "python3"
  },
  "language_info": {
   "codemirror_mode": {
    "name": "ipython",
    "version": 3
   },
   "file_extension": ".py",
   "mimetype": "text/x-python",
   "name": "python",
   "nbconvert_exporter": "python",
   "pygments_lexer": "ipython3",
   "version": "3.9.23"
  }
 },
 "nbformat": 4,
 "nbformat_minor": 5
}
