{
 "cells": [
  {
   "cell_type": "code",
   "execution_count": 1,
   "id": "8bc5dec5",
   "metadata": {},
   "outputs": [
    {
     "name": "stderr",
     "output_type": "stream",
     "text": [
      "c:\\Users\\psw55\\anaconda3\\envs\\Project_EDA\\lib\\site-packages\\tqdm\\auto.py:21: TqdmWarning: IProgress not found. Please update jupyter and ipywidgets. See https://ipywidgets.readthedocs.io/en/stable/user_install.html\n",
      "  from .autonotebook import tqdm as notebook_tqdm\n"
     ]
    }
   ],
   "source": [
    "import kagglehub\n",
    "import shutil\n",
    "import os"
   ]
  },
  {
   "cell_type": "code",
   "execution_count": 2,
   "id": "3b3c98ad",
   "metadata": {},
   "outputs": [],
   "source": [
    "DATASET_NAME = \"NSL_KDD\"\n",
    "DOWNLOAD_PATH = \"./Data/\""
   ]
  },
  {
   "cell_type": "code",
   "execution_count": null,
   "id": "bc1ef574",
   "metadata": {},
   "outputs": [],
   "source": [
    "if DATASET_NAME == \"NSL_KDD\":\n",
    "    kagglehub_dir = \"hassan06/nslkdd\"\n",
    "elif DATASET_NAME == \"CIC_IDS2017\":\n",
    "    kagglehub_dir = \"chethuhn/network-intrusion-dataset\"\n",
    "elif DATASET_NAME == \"CSE_CIC_IDS2018\":\n",
    "    kagglehub_dir = \"solarmainframe/ids-intrusion-csv\"\n",
    "elif DATASET_NAME == \"UNSW_NB15\":\n",
    "    kagglehub_dir = \"dhoogla/unswnb15\"\n",
    "elif DATASET_NAME == \"ISCX_IDS2012\":\n",
    "    kagglehub_dir = \"anowersha/ids-iscx-2012-dataset\"\n",
    "elif DATASET_NAME == \"CIC_DDoS2019\":\n",
    "    kagglehub_dir = \"aymenabb/ddos-evaluation-dataset-cic-ddos2019\"\n",
    "elif DATASET_NAME == \"CICEV2023\":\n",
    "    kagglehub_dir = \"agungpambudi/secure-intrusion-detection-ddos-attacks-profiling\"\n",
    "elif DATASET_NAME == \"CICIoV2024\":\n",
    "    kagglehub_dir = \"tusharchauhan1898/ciciov2024\""
   ]
  },
  {
   "cell_type": "code",
   "execution_count": null,
   "id": "aa92a44f",
   "metadata": {},
   "outputs": [],
   "source": [
    "data_path = DOWNLOAD_PATH + DATASET_NAME\n",
    "if not os.path.exists(data_path):\n",
    "    os.makedirs(data_path)"
   ]
  },
  {
   "cell_type": "code",
   "execution_count": 5,
   "id": "e64b52e7",
   "metadata": {},
   "outputs": [
    {
     "name": "stdout",
     "output_type": "stream",
     "text": [
      "Downloading from https://www.kaggle.com/api/v1/datasets/download/hassan06/nslkdd?dataset_version_number=1...\n"
     ]
    },
    {
     "name": "stderr",
     "output_type": "stream",
     "text": [
      "100%|██████████| 13.9M/13.9M [00:01<00:00, 12.2MB/s]"
     ]
    },
    {
     "name": "stdout",
     "output_type": "stream",
     "text": [
      "Extracting files...\n"
     ]
    },
    {
     "name": "stderr",
     "output_type": "stream",
     "text": [
      "\n"
     ]
    }
   ],
   "source": [
    "path = kagglehub.dataset_download(kagglehub_dir)\n",
    "for item in os.listdir(path):\n",
    "    src_item = os.path.join(path, item)\n",
    "    dst_item = os.path.join(data_path, item)\n",
    "    shutil.move(src_item, dst_item)\n",
    "shutil.rmtree(path.split(kagglehub_dir.split(\"/\")[0])[0][:-1])"
   ]
  }
 ],
 "metadata": {
  "kernelspec": {
   "display_name": "Project_EDA",
   "language": "python",
   "name": "python3"
  },
  "language_info": {
   "codemirror_mode": {
    "name": "ipython",
    "version": 3
   },
   "file_extension": ".py",
   "mimetype": "text/x-python",
   "name": "python",
   "nbconvert_exporter": "python",
   "pygments_lexer": "ipython3",
   "version": "3.9.23"
  }
 },
 "nbformat": 4,
 "nbformat_minor": 5
}
